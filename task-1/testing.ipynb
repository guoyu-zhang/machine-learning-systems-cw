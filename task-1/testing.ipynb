{
 "cells": [
  {
   "cell_type": "code",
   "execution_count": 1,
   "metadata": {},
   "outputs": [],
   "source": [
    "import cupy as cp"
   ]
  },
  {
   "cell_type": "code",
   "execution_count": 19,
   "metadata": {},
   "outputs": [],
   "source": [
    "def add_kernel(X, Y):\n",
    "    return cp.add(X, Y)\n",
    "\n",
    "def sum_kernel(X):\n",
    "    return cp.sum(X)\n",
    "\n",
    "def subtract_kernel(X, Y):\n",
    "    return cp.subtract(X, Y)\n",
    "\n",
    "def mult_kernel(X, Y):\n",
    "    return cp.multiply(X, Y)\n",
    "\n",
    "def divide_kernel(X, Y):\n",
    "    return cp.divide(X, Y)\n",
    "\n",
    "def sqrt_kernel(X):\n",
    "    return cp.sqrt(X)\n",
    "\n",
    "def sqr_kernel(X):\n",
    "    return cp.square(X)\n",
    "\n",
    "def abs_kernel(X):\n",
    "    return cp.abs(X)\n",
    "\n",
    "def distance_cosine(X, Y):\n",
    "    # Add streams\n",
    "    stream1 = cp.cuda.Stream()\n",
    "    stream2 = cp.cuda.Stream()\n",
    "    stream3 = cp.cuda.Stream()\n",
    "    with stream1:\n",
    "        dot = distance_dot(X, Y)\n",
    "    with stream2:\n",
    "        sum_X = sqrt_kernel(sum_kernel(sqr_kernel(X)))\n",
    "    with stream3:\n",
    "        sum_Y = sqrt_kernel(sum_kernel(sqr_kernel(Y)))\n",
    "    cp.cuda.Stream.null.synchronize()\n",
    "    Z = mult_kernel(sum_X, sum_Y)\n",
    "    W = divide_kernel(dot, Z)\n",
    "    U = subtract_kernel(1, W)\n",
    "    return U\n",
    "\n",
    "def distance_l2(X, Y):\n",
    "    Z = add_kernel(X, Y)\n",
    "    W = sqr_kernel(Z)\n",
    "    U = sum_kernel(W)\n",
    "    V = sqrt_kernel(U)\n",
    "    return V\n",
    "\n",
    "def distance_dot(X, Y):\n",
    "    Z = mult_kernel(X, Y)\n",
    "    W = sum_kernel(Z)\n",
    "    return W\n",
    "\n",
    "def distance_manhattan(X, Y):\n",
    "    Z = subtract_kernel(X, Y)\n",
    "    W = abs_kernel(Z)\n",
    "    U = sum_kernel(W)\n",
    "    return U"
   ]
  },
  {
   "cell_type": "code",
   "execution_count": 15,
   "metadata": {},
   "outputs": [],
   "source": [
    "X = cp.array([1, 2, 3])\n",
    "Y = cp.array([4, 5, 6])"
   ]
  },
  {
   "cell_type": "code",
   "execution_count": 21,
   "metadata": {},
   "outputs": [
    {
     "name": "stdout",
     "output_type": "stream",
     "text": [
      "32\n",
      "0.025368153802923787\n",
      "12.449899597988733\n",
      "9\n"
     ]
    }
   ],
   "source": [
    "print(distance_dot(X, Y))\n",
    "print(distance_cosine(X, Y))\n",
    "print(distance_l2(X, Y))\n",
    "print(distance_manhattan(X, Y))"
   ]
  }
 ],
 "metadata": {
  "kernelspec": {
   "display_name": "Python 3",
   "language": "python",
   "name": "python3"
  },
  "language_info": {
   "codemirror_mode": {
    "name": "ipython",
    "version": 3
   },
   "file_extension": ".py",
   "mimetype": "text/x-python",
   "name": "python",
   "nbconvert_exporter": "python",
   "pygments_lexer": "ipython3",
   "version": "3.10.16"
  }
 },
 "nbformat": 4,
 "nbformat_minor": 2
}
